{
 "cells": [
  {
   "cell_type": "markdown",
   "id": "e01034c9",
   "metadata": {},
   "source": [
    "# 1.Importing packages"
   ]
  },
  {
   "cell_type": "code",
   "execution_count": 2,
   "id": "ff9dd145",
   "metadata": {},
   "outputs": [],
   "source": [
    "%matplotlib inline\n",
    "\n",
    "import numpy as np\n",
    "import pandas as pd\n",
    "from keras.preprocessing.image import ImageDataGenerator\n",
    "from keras.models import Model\n",
    "from keras.layers import Input, Flatten, Dense\n",
    "from keras.callbacks import Callback, ModelCheckpoint #callback can be used for early stopping and model saving\n",
    "from keras.applications.vgg16 import VGG16\n",
    "from keras.preprocessing import image\n",
    "from keras.utils import load_img, img_to_array\n",
    "from keras.applications.vgg16 import preprocess_input \n",
    "\n",
    "import warnings\n",
    "warnings.filterwarnings('ignore')"
   ]
  },
  {
   "cell_type": "markdown",
   "id": "44457575",
   "metadata": {},
   "source": [
    "# 2. Load the pretrained network"
   ]
  },
  {
   "cell_type": "code",
   "execution_count": 3,
   "id": "06c3b81e",
   "metadata": {},
   "outputs": [
    {
     "name": "stdout",
     "output_type": "stream",
     "text": [
      "Downloading data from https://storage.googleapis.com/tensorflow/keras-applications/vgg16/vgg16_weights_tf_dim_ordering_tf_kernels_notop.h5\n",
      "58889256/58889256 [==============================] - 271s 5us/step\n"
     ]
    }
   ],
   "source": [
    "model_vgg16_conv = VGG16(weights='imagenet', include_top=False) #inlcude_top??"
   ]
  },
  {
   "cell_type": "code",
   "execution_count": 4,
   "id": "57f19cd0",
   "metadata": {},
   "outputs": [
    {
     "name": "stdout",
     "output_type": "stream",
     "text": [
      "Model: \"vgg16\"\n",
      "_________________________________________________________________\n",
      " Layer (type)                Output Shape              Param #   \n",
      "=================================================================\n",
      " input_1 (InputLayer)        [(None, None, None, 3)]   0         \n",
      "                                                                 \n",
      " block1_conv1 (Conv2D)       (None, None, None, 64)    1792      \n",
      "                                                                 \n",
      " block1_conv2 (Conv2D)       (None, None, None, 64)    36928     \n",
      "                                                                 \n",
      " block1_pool (MaxPooling2D)  (None, None, None, 64)    0         \n",
      "                                                                 \n",
      " block2_conv1 (Conv2D)       (None, None, None, 128)   73856     \n",
      "                                                                 \n",
      " block2_conv2 (Conv2D)       (None, None, None, 128)   147584    \n",
      "                                                                 \n",
      " block2_pool (MaxPooling2D)  (None, None, None, 128)   0         \n",
      "                                                                 \n",
      " block3_conv1 (Conv2D)       (None, None, None, 256)   295168    \n",
      "                                                                 \n",
      " block3_conv2 (Conv2D)       (None, None, None, 256)   590080    \n",
      "                                                                 \n",
      " block3_conv3 (Conv2D)       (None, None, None, 256)   590080    \n",
      "                                                                 \n",
      " block3_pool (MaxPooling2D)  (None, None, None, 256)   0         \n",
      "                                                                 \n",
      " block4_conv1 (Conv2D)       (None, None, None, 512)   1180160   \n",
      "                                                                 \n",
      " block4_conv2 (Conv2D)       (None, None, None, 512)   2359808   \n",
      "                                                                 \n",
      " block4_conv3 (Conv2D)       (None, None, None, 512)   2359808   \n",
      "                                                                 \n",
      " block4_pool (MaxPooling2D)  (None, None, None, 512)   0         \n",
      "                                                                 \n",
      " block5_conv1 (Conv2D)       (None, None, None, 512)   2359808   \n",
      "                                                                 \n",
      " block5_conv2 (Conv2D)       (None, None, None, 512)   2359808   \n",
      "                                                                 \n",
      " block5_conv3 (Conv2D)       (None, None, None, 512)   2359808   \n",
      "                                                                 \n",
      " block5_pool (MaxPooling2D)  (None, None, None, 512)   0         \n",
      "                                                                 \n",
      "=================================================================\n",
      "Total params: 14,714,688\n",
      "Trainable params: 14,714,688\n",
      "Non-trainable params: 0\n",
      "_________________________________________________________________\n"
     ]
    }
   ],
   "source": [
    "model_vgg16_conv.summary() \n",
    "#14,714,688 We solved in class (The time pass example)"
   ]
  },
  {
   "cell_type": "markdown",
   "id": "2aaaca4b",
   "metadata": {},
   "source": [
    "# 3. Freeze the layers"
   ]
  },
  {
   "cell_type": "code",
   "execution_count": 5,
   "id": "10d7c314",
   "metadata": {},
   "outputs": [],
   "source": [
    "#non trainable params will not be 0 only when you freeze layers\n",
    "for layer in model_vgg16_conv.layers:\n",
    "    layer.trainable = False"
   ]
  },
  {
   "cell_type": "markdown",
   "id": "6be4f7a1",
   "metadata": {},
   "source": [
    "# 4.Training parameters"
   ]
  },
  {
   "cell_type": "code",
   "execution_count": 6,
   "id": "2f36b2e0",
   "metadata": {},
   "outputs": [],
   "source": [
    "img_width, img_height = 150, 150 #std image size for VGGNET: 227x227 ITs too big\n",
    "train_data_dir = 'data/train'\n",
    "val_data_dir = 'data/validation'\n",
    "model_weights_file = 'vgg16-xfer-weights.h5' #.h5 to store weights and biases of model\n",
    "nb_train_samples = 4\n",
    "nb_val_samples = 4\n",
    "nb_epochs = 5"
   ]
  },
  {
   "cell_type": "markdown",
   "id": "67266fa6",
   "metadata": {},
   "source": [
    "# 5.Build a classification model on top of Base Network"
   ]
  },
  {
   "cell_type": "code",
   "execution_count": 7,
   "id": "5599759a",
   "metadata": {},
   "outputs": [],
   "source": [
    "input = Input(shape=(img_width, img_height, 3)) #3 cuz its color\n",
    "output_vgg16_conv = model_vgg16_conv(input)\n",
    "x = Flatten()(output_vgg16_conv)\n",
    "x = Dense(64, activation='relu')(x)\n",
    "x = Dense(2, activation='softmax')(x)\n",
    "model = Model(inputs=[input], outputs=x)\n",
    "\n",
    "model.compile(loss='categorical_crossentropy', optimizer='rmsprop', metrics=['accuracy'])"
   ]
  },
  {
   "cell_type": "markdown",
   "id": "e32c06a5",
   "metadata": {},
   "source": [
    "# 6.Dataset Preparation"
   ]
  },
  {
   "cell_type": "code",
   "execution_count": 8,
   "id": "6965a7c2",
   "metadata": {},
   "outputs": [
    {
     "name": "stdout",
     "output_type": "stream",
     "text": [
      "Found 4 images belonging to 2 classes.\n",
      "Found 4 images belonging to 2 classes.\n"
     ]
    }
   ],
   "source": [
    "train_datagen = ImageDataGenerator(rescale=1./255, shear_range=0.2, zoom_range=0.2, horizontal_flip=True)\n",
    "test_datagen = ImageDataGenerator(rescale=1./255)\n",
    "\n",
    "train_generator = train_datagen.flow_from_directory(train_data_dir, target_size=(img_width, img_height), \n",
    "                                                    batch_size=4, class_mode='categorical')\n",
    "validation_generator = test_datagen.flow_from_directory(val_data_dir, target_size=(img_width, img_height), \n",
    "                                                        batch_size=4,class_mode='categorical')"
   ]
  },
  {
   "cell_type": "markdown",
   "id": "f082a6c1",
   "metadata": {},
   "source": [
    "# 7.Training"
   ]
  },
  {
   "cell_type": "code",
   "execution_count": 9,
   "id": "202cbf5b",
   "metadata": {},
   "outputs": [
    {
     "name": "stdout",
     "output_type": "stream",
     "text": [
      "Epoch 1/5\n",
      "1/4 [======>.......................] - ETA: 6s - loss: 0.7095 - accuracy: 0.5000WARNING:tensorflow:Your input ran out of data; interrupting training. Make sure that your dataset or generator can generate at least `steps_per_epoch * epochs` batches (in this case, 20 batches). You may need to use the repeat() function when building your dataset.\n",
      "WARNING:tensorflow:Your input ran out of data; interrupting training. Make sure that your dataset or generator can generate at least `steps_per_epoch * epochs` batches (in this case, 4 batches). You may need to use the repeat() function when building your dataset.\n",
      "WARNING:tensorflow:Can save best model only with val_acc available, skipping.\n",
      "4/4 [==============================] - 6s 1s/step - loss: 0.7095 - accuracy: 0.5000 - val_loss: 4.2917 - val_accuracy: 0.5000\n",
      "Training Completed!\n"
     ]
    }
   ],
   "source": [
    "callbacks = [ModelCheckpoint(model_weights_file, monitor='val_acc', save_best_only=True)]\n",
    "\n",
    "history = model.fit_generator( train_generator, callbacks = callbacks, steps_per_epoch=nb_train_samples, \n",
    "                              epochs=nb_epochs, validation_data=validation_generator, validation_steps=nb_val_samples)\n",
    "\n",
    "print('Training Completed!')\n"
   ]
  },
  {
   "cell_type": "markdown",
   "id": "09a54205",
   "metadata": {},
   "source": [
    "# 8.Test the model"
   ]
  },
  {
   "cell_type": "code",
   "execution_count": 10,
   "id": "b5e4f89a",
   "metadata": {},
   "outputs": [
    {
     "name": "stdout",
     "output_type": "stream",
     "text": [
      "1/1 [==============================] - 0s 483ms/step\n"
     ]
    },
    {
     "ename": "IndexError",
     "evalue": "index 0 is out of bounds for axis 0 with size 0",
     "output_type": "error",
     "traceback": [
      "\u001b[1;31m---------------------------------------------------------------------------\u001b[0m",
      "\u001b[1;31mIndexError\u001b[0m                                Traceback (most recent call last)",
      "Input \u001b[1;32mIn [10]\u001b[0m, in \u001b[0;36m<cell line: 9>\u001b[1;34m()\u001b[0m\n\u001b[0;32m      6\u001b[0m x \u001b[38;5;241m=\u001b[39m preprocess_input(x)\n\u001b[0;32m      8\u001b[0m features \u001b[38;5;241m=\u001b[39m model\u001b[38;5;241m.\u001b[39mpredict(x)\n\u001b[1;32m----> 9\u001b[0m ind \u001b[38;5;241m=\u001b[39m \u001b[43mnp\u001b[49m\u001b[38;5;241;43m.\u001b[39;49m\u001b[43mwhere\u001b[49m\u001b[43m(\u001b[49m\u001b[43mfeatures\u001b[49m\u001b[43m \u001b[49m\u001b[38;5;241;43m==\u001b[39;49m\u001b[43m \u001b[49m\u001b[38;5;241;43m1\u001b[39;49m\u001b[43m)\u001b[49m\u001b[43m[\u001b[49m\u001b[38;5;241;43m1\u001b[39;49m\u001b[43m]\u001b[49m\u001b[43m[\u001b[49m\u001b[38;5;241;43m0\u001b[39;49m\u001b[43m]\u001b[49m\n\u001b[0;32m     10\u001b[0m \u001b[38;5;28mprint\u001b[39m(\u001b[38;5;124m'\u001b[39m\u001b[38;5;124mPredicted Array:\u001b[39m\u001b[38;5;124m'\u001b[39m,features)\n\u001b[0;32m     11\u001b[0m \u001b[38;5;28mprint\u001b[39m(\u001b[38;5;124m'\u001b[39m\u001b[38;5;124mPredicted Label:\u001b[39m\u001b[38;5;124m'\u001b[39m,label[ind])\n",
      "\u001b[1;31mIndexError\u001b[0m: index 0 is out of bounds for axis 0 with size 0"
     ]
    }
   ],
   "source": [
    "img_path = 'data/dog.jpg'\n",
    "label = ['Cat','Dog']\n",
    "img = load_img(img_path, target_size=(150, 150))\n",
    "x = img_to_array(img)\n",
    "x = np.expand_dims(x, axis=0)\n",
    "x = preprocess_input(x)\n",
    "\n",
    "features = model.predict(x)\n",
    "ind = np.where(features == 1)[1][0]\n",
    "print('Predicted Array:',features)\n",
    "print('Predicted Label:',label[ind])"
   ]
  },
  {
   "cell_type": "markdown",
   "id": "f14c9798",
   "metadata": {},
   "source": [
    "# Models for image classification with weights trained on ImageNet\n",
    "\n"
   ]
  },
  {
   "cell_type": "raw",
   "id": "5fecde0f",
   "metadata": {},
   "source": [
    "Xception\n",
    "VGG16\n",
    "VGG19\n",
    "ResNet50\n",
    "InceptionV3\n",
    "InceptionResNetV2\n",
    "MobileNet\n",
    "DenseNet\n",
    "NASNet"
   ]
  },
  {
   "cell_type": "code",
   "execution_count": null,
   "id": "3ed846df",
   "metadata": {},
   "outputs": [],
   "source": []
  }
 ],
 "metadata": {
  "kernelspec": {
   "display_name": "Python 3 (ipykernel)",
   "language": "python",
   "name": "python3"
  },
  "language_info": {
   "codemirror_mode": {
    "name": "ipython",
    "version": 3
   },
   "file_extension": ".py",
   "mimetype": "text/x-python",
   "name": "python",
   "nbconvert_exporter": "python",
   "pygments_lexer": "ipython3",
   "version": "3.9.12"
  }
 },
 "nbformat": 4,
 "nbformat_minor": 5
}
